{
 "cells": [
  {
   "cell_type": "markdown",
   "id": "2d4e368f-180a-4cf5-b6ee-dbea67c5a0c4",
   "metadata": {},
   "source": [
    "<h2><center> Total variation denoising </center></h2>"
   ]
  },
  {
   "cell_type": "markdown",
   "id": "25e62372-8e1a-460c-a04f-21bf7b7c8634",
   "metadata": {},
   "source": [
    "### In this demo, we solve the following minimisation problem:\n",
    "\n",
    "$$\\begin{equation}\n",
    "\\underset{u}{\\operatorname{argmin}} \\frac{1}{2} \\| u - g\\|^{2}_{2} + \\alpha \\mathrm{TV}(u)\n",
    "\\end{equation}$$\n",
    "\n",
    "where,\n",
    "\n",
    "* g is a noisy data corrupted with Gaussian noise,\n",
    "* TV stands for the Total variation regulariser.\n",
    "\n",
    "To solve the above problem, we use the **Fast Gradient Projection (FGP)** algorithm, proposed in [BeckTeboulle](https://ieeexplore.ieee.org/document/5173518)."
   ]
  },
  {
   "cell_type": "code",
   "execution_count": 1,
   "id": "d1c90a86-a2b5-42c5-bdac-3e77b323b112",
   "metadata": {},
   "outputs": [
    {
     "name": "stderr",
     "output_type": "stream",
     "text": [
      "\n",
      "Bad key \"text.kerning_factor\" on line 4 in\n",
      "/home/vaggelis/miniconda3/envs/cil_binder_intel/lib/python3.7/site-packages/matplotlib/mpl-data/stylelib/_classic_test_patch.mplstyle.\n",
      "You probably need to get an updated matplotlibrc file from\n",
      "https://github.com/matplotlib/matplotlib/blob/v3.1.2/matplotlibrc.template\n",
      "or from the matplotlib source distribution\n"
     ]
    }
   ],
   "source": [
    "# Import libraries\n",
    "from cil.optimisation.functions import TotalVariation\n",
    "from cil.utilities import dataexample, noise\n",
    "from cil.utilities.display import show2D"
   ]
  },
  {
   "cell_type": "markdown",
   "id": "fba6fa3c-9411-44d4-8681-5081f4ceac79",
   "metadata": {},
   "source": [
    "We load an image from the `dataexample` class. In this demo, we use the `CAMERA` image. \n",
    "\n",
    "Other options are: \n",
    "\n",
    "* `BOAT`\n",
    "* `CAMERA`\n",
    "* `PEPPERS`(color)\n",
    "* `RESOLUTION_CHART` \n",
    "* `SIMPLE_PHANTOM_2D` \n",
    "* `RAINBOW` (color)"
   ]
  },
  {
   "cell_type": "code",
   "execution_count": 2,
   "id": "7c366197-2088-4af0-b20f-62f33182ee0a",
   "metadata": {},
   "outputs": [],
   "source": [
    "# Load data\n",
    "data = dataexample.CAMERA.get()\n",
    "\n",
    "# Add gaussian noise\n",
    "noisy_data = noise.gaussian(data, seed = 10, var = 0.02)"
   ]
  },
  {
   "cell_type": "markdown",
   "id": "c7980e9a-e5db-48ce-a680-8bfc40a0cf79",
   "metadata": {},
   "source": [
    "We use the **proximal method** of the **TotalVariation** class which implements the FGP algorithm."
   ]
  },
  {
   "cell_type": "code",
   "execution_count": 3,
   "id": "51149b58-ea03-4fdd-9eae-3fb75a243f97",
   "metadata": {},
   "outputs": [
    {
     "name": "stdout",
     "output_type": "stream",
     "text": [
      "Initialised GradientOperator with C backend running with  16  threads\n"
     ]
    }
   ],
   "source": [
    "alpha = 0.15\n",
    "TV = alpha * TotalVariation(max_iteration=100)\n",
    "proxTV = TV.proximal(noisy_data, tau=1.0)"
   ]
  },
  {
   "cell_type": "code",
   "execution_count": null,
   "id": "cd01ebdd-7925-4496-8e0e-d5da51e817e4",
   "metadata": {},
   "outputs": [],
   "source": [
    "show2D([data, noisy_data, proxTV], \n",
    "       title=['Ground truth', 'Noisy Data (Gaussian)', 'Total variation'], \n",
    "       origin=\"upper\", num_cols=3)"
   ]
  }
 ],
 "metadata": {
  "kernelspec": {
   "display_name": "Python [conda env:cil_binder_intel] *",
   "language": "python",
   "name": "conda-env-cil_binder_intel-py"
  },
  "language_info": {
   "codemirror_mode": {
    "name": "ipython",
    "version": 3
   },
   "file_extension": ".py",
   "mimetype": "text/x-python",
   "name": "python",
   "nbconvert_exporter": "python",
   "pygments_lexer": "ipython3",
   "version": "3.7.10"
  }
 },
 "nbformat": 4,
 "nbformat_minor": 5
}
